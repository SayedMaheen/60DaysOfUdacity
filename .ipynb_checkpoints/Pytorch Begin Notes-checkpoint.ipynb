{
 "cells": [
  {
   "cell_type": "markdown",
   "metadata": {},
   "source": [
    "### Challenge Day 3"
   ]
  },
  {
   "cell_type": "markdown",
   "metadata": {},
   "source": [
    "### Challenge Day 25\n",
    "\n",
    "#### Task: Create a tensor of size 5x5x5 with random numbers of minimum value -0.5 and maximum value 0.5. Split this tensor to get a tuple of tensors (5 times tensors of size 5x5).  As a manual seed use 250.\n",
    "##### Expected output\n",
    "##### Initially created tensor:\n",
    "tensor([[[ 0.5000,  0.0809,  0.4314,  0.5000, -0.5000],<br/>\n",
    "         [-0.2927, -0.5000, -0.3387,  0.5000, -0.4101],<br/>\n",
    "         [-0.5000,  0.1243, -0.3532, -0.3106,  0.1316],<br/>\n",
    "         [-0.4220, -0.5000, -0.5000,  0.5000,  0.4594],<br/>\n",
    "         [-0.5000, -0.5000, -0.5000,  0.1422,  0.5000]],<br/>\n",
    "             ...<br/>\n",
    "        [[-0.5000,  0.5000, -0.5000,  0.5000,  0.5000],<br/>\n",
    "         [-0.0912, -0.4900,  0.2565, -0.2830, -0.5000],<br/>\n",
    "         [ 0.5000, -0.5000,  0.5000, -0.5000, -0.1522],<br/>\n",
    "         [ 0.5000, -0.5000,  0.1804, -0.3545, -0.5000],<br/>\n",
    "         [ 0.4882, -0.5000, -0.0064,  0.5000, -0.2409]]])<br/>\n",
    "             \n",
    "##### Resulting tuple:   \n",
    "(tensor([[ 0.5000,  0.0809,  0.4314,  0.5000, -0.5000],<br/>\n",
    "         [-0.2927, -0.5000, -0.3387,  0.5000, -0.4101],<br/>\n",
    "         [-0.5000,  0.1243, -0.3532, -0.3106,  0.1316],<br/>\n",
    "         [-0.4220, -0.5000, -0.5000,  0.5000,  0.4594],<br/>\n",
    "         [-0.5000, -0.5000, -0.5000,  0.1422,  0.5000]]),<br/>\n",
    "             …<br/>\n",
    "tensor([[-0.5000,  0.5000, -0.5000,  0.5000,  0.5000],<br/>\n",
    "        [-0.0912, -0.4900,  0.2565, -0.2830, -0.5000],<br/>\n",
    "        [ 0.5000, -0.5000,  0.5000, -0.5000, -0.1522],<br/>\n",
    "        [ 0.5000, -0.5000,  0.1804, -0.3545, -0.5000],<br/>\n",
    "        [ 0.4882, -0.5000, -0.0064,  0.5000, -0.2409]]))"
   ]
  },
  {
   "cell_type": "code",
   "execution_count": 9,
   "metadata": {},
   "outputs": [
    {
     "data": {
      "text/plain": [
       "<torch._C.Generator at 0x22f70736df0>"
      ]
     },
     "execution_count": 9,
     "metadata": {},
     "output_type": "execute_result"
    }
   ],
   "source": [
    "torch.manual_seed(250)  \n",
    "# it will set the seed of the random number generator to a fixed value\n",
    "#so that the result will be reproducie"
   ]
  },
  {
   "cell_type": "code",
   "execution_count": 10,
   "metadata": {},
   "outputs": [
    {
     "name": "stdout",
     "output_type": "stream",
     "text": [
      "tensor([[[ 0.5000,  0.0809,  0.4314,  0.5000, -0.5000],\n",
      "         [-0.2927, -0.5000, -0.3387,  0.5000, -0.4101],\n",
      "         [-0.5000,  0.1243, -0.3532, -0.3106,  0.1316],\n",
      "         [-0.4220, -0.5000, -0.5000,  0.5000,  0.4594],\n",
      "         [-0.5000, -0.5000, -0.5000,  0.1422,  0.5000]],\n",
      "\n",
      "        [[ 0.3978, -0.5000, -0.5000,  0.5000,  0.5000],\n",
      "         [ 0.2439, -0.1708, -0.5000,  0.5000,  0.5000],\n",
      "         [ 0.5000,  0.5000, -0.5000,  0.5000,  0.5000],\n",
      "         [-0.5000,  0.5000, -0.2770,  0.5000,  0.5000],\n",
      "         [ 0.5000,  0.5000, -0.5000,  0.5000, -0.0369]],\n",
      "\n",
      "        [[ 0.5000, -0.5000,  0.1302, -0.5000, -0.5000],\n",
      "         [-0.4887,  0.5000,  0.5000,  0.1941, -0.1472],\n",
      "         [ 0.0849, -0.5000,  0.5000, -0.1555,  0.5000],\n",
      "         [ 0.0996, -0.5000, -0.5000, -0.5000, -0.5000],\n",
      "         [-0.5000, -0.1733, -0.5000, -0.5000, -0.4731]],\n",
      "\n",
      "        [[-0.5000, -0.2055,  0.5000, -0.5000,  0.5000],\n",
      "         [ 0.2195, -0.5000,  0.5000,  0.5000, -0.3842],\n",
      "         [-0.3925,  0.5000,  0.5000, -0.5000,  0.0261],\n",
      "         [-0.5000,  0.0123, -0.5000, -0.0387,  0.5000],\n",
      "         [-0.4007, -0.2106,  0.1529, -0.0704,  0.4299]],\n",
      "\n",
      "        [[-0.5000,  0.5000, -0.5000,  0.5000,  0.5000],\n",
      "         [-0.0912, -0.4900,  0.2565, -0.2830, -0.5000],\n",
      "         [ 0.5000, -0.5000,  0.5000, -0.5000, -0.1522],\n",
      "         [ 0.5000, -0.5000,  0.1804, -0.3545, -0.5000],\n",
      "         [ 0.4882, -0.5000, -0.0064,  0.5000, -0.2409]]])\n"
     ]
    }
   ],
   "source": [
    " #clamp sets the min and max, randn(5, 5, 5) creates five 5x5 tensors\n",
    "x = torch.clamp(torch.randn(5, 5, 5), -0.5, 0.5) \n",
    "print(x)"
   ]
  },
  {
   "cell_type": "code",
   "execution_count": 11,
   "metadata": {},
   "outputs": [
    {
     "name": "stdout",
     "output_type": "stream",
     "text": [
      "(tensor([[ 0.5000,  0.0809,  0.4314,  0.5000, -0.5000],\n",
      "        [-0.2927, -0.5000, -0.3387,  0.5000, -0.4101],\n",
      "        [-0.5000,  0.1243, -0.3532, -0.3106,  0.1316],\n",
      "        [-0.4220, -0.5000, -0.5000,  0.5000,  0.4594],\n",
      "        [-0.5000, -0.5000, -0.5000,  0.1422,  0.5000]]), tensor([[ 0.3978, -0.5000, -0.5000,  0.5000,  0.5000],\n",
      "        [ 0.2439, -0.1708, -0.5000,  0.5000,  0.5000],\n",
      "        [ 0.5000,  0.5000, -0.5000,  0.5000,  0.5000],\n",
      "        [-0.5000,  0.5000, -0.2770,  0.5000,  0.5000],\n",
      "        [ 0.5000,  0.5000, -0.5000,  0.5000, -0.0369]]), tensor([[ 0.5000, -0.5000,  0.1302, -0.5000, -0.5000],\n",
      "        [-0.4887,  0.5000,  0.5000,  0.1941, -0.1472],\n",
      "        [ 0.0849, -0.5000,  0.5000, -0.1555,  0.5000],\n",
      "        [ 0.0996, -0.5000, -0.5000, -0.5000, -0.5000],\n",
      "        [-0.5000, -0.1733, -0.5000, -0.5000, -0.4731]]), tensor([[-0.5000, -0.2055,  0.5000, -0.5000,  0.5000],\n",
      "        [ 0.2195, -0.5000,  0.5000,  0.5000, -0.3842],\n",
      "        [-0.3925,  0.5000,  0.5000, -0.5000,  0.0261],\n",
      "        [-0.5000,  0.0123, -0.5000, -0.0387,  0.5000],\n",
      "        [-0.4007, -0.2106,  0.1529, -0.0704,  0.4299]]), tensor([[-0.5000,  0.5000, -0.5000,  0.5000,  0.5000],\n",
      "        [-0.0912, -0.4900,  0.2565, -0.2830, -0.5000],\n",
      "        [ 0.5000, -0.5000,  0.5000, -0.5000, -0.1522],\n",
      "        [ 0.5000, -0.5000,  0.1804, -0.3545, -0.5000],\n",
      "        [ 0.4882, -0.5000, -0.0064,  0.5000, -0.2409]]))\n"
     ]
    }
   ],
   "source": [
    "# using torch.unbind() to split the tensor \n",
    "y = torch.unbind(x) \n",
    "print(y)"
   ]
  },
  {
   "cell_type": "code",
   "execution_count": null,
   "metadata": {},
   "outputs": [],
   "source": []
  },
  {
   "cell_type": "markdown",
   "metadata": {},
   "source": [
    "### Challenge Day 26 \n",
    "\n",
    "#### Task: Obtain the outputs using PyTorch's methods\n",
    "\n",
    "##### Part1: Generate a tensor (tensor1) with size [5, 5] and the following odd elements.\n",
    "\n",
    "print(tensor1)<br/>\n",
    "tensor([[ 1,  3,  5,  7,  9],<br/>\n",
    "        [11, 13, 15, 17, 19],<br/>\n",
    "        [21, 23, 25, 27, 29],<br/>\n",
    "        [31, 33, 35, 37, 39],<br/>\n",
    "        [41, 43, 45, 47, 49]])\n",
    "\n",
    "##### Part2: Perform transformations on tensor1 to produce tensor2 and tensor3.\n",
    "\n",
    "print(tensor2)<br/>\n",
    "tensor([[41, 43, 45, 47, 49],<br/>\n",
    "        [31, 33, 35, 37, 39],<br/>\n",
    "        [21, 23, 25, 27, 29],<br/>\n",
    "        [11, 13, 15, 17, 19],<br/>\n",
    "        [ 1,  3,  5,  7,  9]])\n",
    "\n",
    "print(tensor3)<br/>\n",
    "tensor([[ 9,  7,  5,  3,  1],<br/>\n",
    "        [19, 17, 15, 13, 11],<br/>\n",
    "        [29, 27, 25, 23, 21],<br/>\n",
    "        [39, 37, 35, 33, 31],<br/>\n",
    "        [49, 47, 45, 43, 41]])\n",
    "        \n",
    "##### Part3: Compare the elements of tensor2 and tensor3 to produce tensor 4 which has the element-wise max values.\n",
    "\n",
    "print(tensor4)<br/>\n",
    "tensor([[41, 43, 45, 47, 49],<br/>\n",
    "        [31, 33, 35, 37, 39],<br/>\n",
    "        [29, 27, 25, 27, 29],<br/>\n",
    "        [39, 37, 35, 33, 31],<br/>\n",
    "        [49, 47, 45, 43, 41]])\n",
    "        \n",
    "##### Part4: Find the second smallest values of each row of tensor4.\n",
    "\n",
    "print(tensor5)<br/>\n",
    "tensor([43, 33, 27, 33, 43])\n"
   ]
  },
  {
   "cell_type": "code",
   "execution_count": 2,
   "metadata": {},
   "outputs": [
    {
     "name": "stdout",
     "output_type": "stream",
     "text": [
      "tensor([[ 1,  3,  5,  7,  9],\n",
      "        [11, 13, 15, 17, 19],\n",
      "        [21, 23, 25, 27, 29],\n",
      "        [31, 33, 35, 37, 39],\n",
      "        [41, 43, 45, 47, 49]])\n"
     ]
    }
   ],
   "source": [
    "import torch\n",
    "tensor1 = torch.arange(1, 50, 2).view(5,5)\n",
    "print(tensor1)"
   ]
  },
  {
   "cell_type": "code",
   "execution_count": 3,
   "metadata": {},
   "outputs": [
    {
     "name": "stdout",
     "output_type": "stream",
     "text": [
      "tensor([[41, 43, 45, 47, 49],\n",
      "        [31, 33, 35, 37, 39],\n",
      "        [21, 23, 25, 27, 29],\n",
      "        [11, 13, 15, 17, 19],\n",
      "        [ 1,  3,  5,  7,  9]])\n"
     ]
    }
   ],
   "source": [
    "tensor2 = tensor1.flip([0])\n",
    "print(tensor2)"
   ]
  },
  {
   "cell_type": "code",
   "execution_count": 4,
   "metadata": {},
   "outputs": [
    {
     "name": "stdout",
     "output_type": "stream",
     "text": [
      "tensor([[ 9,  7,  5,  3,  1],\n",
      "        [19, 17, 15, 13, 11],\n",
      "        [29, 27, 25, 23, 21],\n",
      "        [39, 37, 35, 33, 31],\n",
      "        [49, 47, 45, 43, 41]])\n"
     ]
    }
   ],
   "source": [
    "tensor3 = tensor1.flip([1])\n",
    "print(tensor3)"
   ]
  },
  {
   "cell_type": "code",
   "execution_count": 5,
   "metadata": {},
   "outputs": [
    {
     "name": "stdout",
     "output_type": "stream",
     "text": [
      "tensor([[41, 43, 45, 47, 49],\n",
      "        [31, 33, 35, 37, 39],\n",
      "        [29, 27, 25, 27, 29],\n",
      "        [39, 37, 35, 33, 31],\n",
      "        [49, 47, 45, 43, 41]])\n"
     ]
    }
   ],
   "source": [
    "tensor4 = torch.max(tensor2, tensor3)\n",
    "print(tensor4)"
   ]
  },
  {
   "cell_type": "code",
   "execution_count": 6,
   "metadata": {},
   "outputs": [
    {
     "name": "stdout",
     "output_type": "stream",
     "text": [
      "tensor([43, 33, 27, 33, 43])\n"
     ]
    }
   ],
   "source": [
    "tensor5 = torch.kthvalue(tensor4, 2).values\n",
    "print(tensor5)"
   ]
  },
  {
   "cell_type": "markdown",
   "metadata": {},
   "source": [
    "From this task, we learned how to:\n",
    "1. Generate tensor elements in a given range using a step size.\n",
    "2. Reverse the tensor elements along a given dimension.\n",
    "3. Get the maximum element while comparing two tensors element-wise.\n",
    "4. Extract the kth smallest values from a tensor along a given dimension."
   ]
  },
  {
   "cell_type": "code",
   "execution_count": null,
   "metadata": {},
   "outputs": [],
   "source": []
  }
 ],
 "metadata": {
  "kernelspec": {
   "display_name": "Python 3",
   "language": "python",
   "name": "python3"
  },
  "language_info": {
   "codemirror_mode": {
    "name": "ipython",
    "version": 3
   },
   "file_extension": ".py",
   "mimetype": "text/x-python",
   "name": "python",
   "nbconvert_exporter": "python",
   "pygments_lexer": "ipython3",
   "version": "3.7.3"
  }
 },
 "nbformat": 4,
 "nbformat_minor": 2
}
